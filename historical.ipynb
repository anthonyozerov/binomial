{
 "cells": [
  {
   "cell_type": "code",
   "execution_count": null,
   "metadata": {},
   "outputs": [],
   "source": [
    "import pandas as pd\n",
    "import numpy as np\n",
    "import matplotlib.pyplot as plt\n",
    "# use tex\n",
    "plt.rc(\"text\", usetex=True)"
   ]
  },
  {
   "cell_type": "code",
   "execution_count": null,
   "metadata": {},
   "outputs": [],
   "source": [
    "\n",
    "c_df = pd.read_csv('data/c.csv', comment='#')\n",
    "c_df"
   ]
  },
  {
   "cell_type": "code",
   "execution_count": null,
   "metadata": {},
   "outputs": [],
   "source": [
    "rho_df = pd.read_csv('data/rho.csv', comment='#')\n",
    "rho_df"
   ]
  },
  {
   "cell_type": "code",
   "execution_count": null,
   "metadata": {},
   "outputs": [],
   "source": [
    "au_df = pd.read_csv('data/au.csv', comment='#')\n",
    "au_df"
   ]
  },
  {
   "cell_type": "code",
   "execution_count": null,
   "metadata": {},
   "outputs": [],
   "source": [
    "ho_df = pd.read_csv('data/h-o-mass.csv', comment='#')\n",
    "ho_df['uncertainty'] = ho_df['proberr'] / 0.6745\n",
    "agcl_df = pd.read_csv('data/ag-cl-mass.csv', comment='#')\n",
    "agcl_df['uncertainty'] = agcl_df['proberr'] / 0.6745"
   ]
  },
  {
   "cell_type": "code",
   "execution_count": null,
   "metadata": {},
   "outputs": [],
   "source": [
    "datasets = {\n",
    "    'rho': rho_df,\n",
    "    # 'h': h_df,\n",
    "    # 'G': g_df,\n",
    "    'c': c_df,\n",
    "    'au': au_df,\n",
    "    'ho': ho_df,\n",
    "    'agcl': agcl_df,\n",
    "}\n",
    "truths = {\n",
    "    'rho': 5.513,\n",
    "    'c': 299792.458,\n",
    "    'au': 149597870700,\n",
    "    'ho':15.87202381,\n",
    "    'agcl':32.866961718,\n",
    "    # 'G': None,\n",
    "    # 'h': None,\n",
    "}\n",
    "yscales = {\n",
    "    'rho': 'symlog',\n",
    "    'c': 'symlog',\n",
    "    'au': 'symlog',\n",
    "    'ho': 'linear',\n",
    "    'agcl': 'linear',\n",
    "    # 'G': 'linear',\n",
    "    # 'h': 'linear',\n",
    "}\n",
    "linthresh = {\n",
    "    'rho': 0.01,\n",
    "    'c': 0.1,\n",
    "    'au': 1,\n",
    "    'ho': 0.001,\n",
    "    'agcl': 0.001,\n",
    "}\n",
    "names = list(datasets.keys())\n",
    "nice_names = {\n",
    "    'c': 'Speed of light',\n",
    "    'rho': 'Density of Earth',\n",
    "    'au': 'Astronomical Unit',\n",
    "    'ho': 'Oxygen to Hydrogen mass ratio',\n",
    "    'agcl': 'Silver to Chlorine mass ratio',\n",
    "}"
   ]
  },
  {
   "cell_type": "code",
   "execution_count": null,
   "metadata": {},
   "outputs": [],
   "source": [
    "counts = {n: len(datasets[n]) for n in names}\n",
    "num_over = {n: np.sum(datasets[n].value > truths[n]) for n in names}\n",
    "prop_over = {n: num_over[n] / counts[n] for n in names}\n",
    "\n",
    "from scipy.stats import binomtest\n",
    "binom_p_values = {}\n",
    "for n in names:\n",
    "    binom_p_values[n] = binomtest(num_over[n], counts[n], p=0.5, alternative='two-sided').pvalue\n",
    "from methods import sign_rank_test\n",
    "sign_rank_p_values = {}\n",
    "for n in names:\n",
    "    sign_rank_p_values[n] = sign_rank_test(datasets[n].value, truths[n])\n",
    "\n",
    "binom_p_values\n",
    "sign_rank_p_values\n",
    "\n",
    "# put all the results in a pandas dataframe\n",
    "results = pd.DataFrame({\n",
    "    'name': nice_names,\n",
    "    'count': counts,\n",
    "    'num_over': num_over,\n",
    "    'prop_over': prop_over,\n",
    "    'binom_p_value': binom_p_values,\n",
    "    'sign_rank_p_value': sign_rank_p_values,\n",
    "})\n",
    "print(results.to_latex(index=False, float_format='%.4f'))\n"
   ]
  },
  {
   "cell_type": "code",
   "execution_count": null,
   "metadata": {},
   "outputs": [],
   "source": [
    "fig, axs = plt.subplots(1, 3, figsize=(10, 5))\n",
    "xlabels = {\n",
    "    'rho': r'Difference from true value $[\\mathrm{g/cm^3}]$',\n",
    "    'c': r'Difference from true value $[\\mathrm{km/s}]$',\n",
    "    'au': r'Difference from true value $[\\mathrm{km}]$',\n",
    "    'ho': r'Difference from true ratio',\n",
    "    'agcl': r'Difference from true ratio',\n",
    "}\n",
    "for i, name in enumerate(['rho', 'c', 'au']):\n",
    "    name = names[i]\n",
    "    ax = axs[i]\n",
    "\n",
    "    values = datasets[name].value - truths[name]\n",
    "    if name == 'au':\n",
    "        values = values / 1000\n",
    "    dates = datasets[name].year\n",
    "\n",
    "    ax.plot(values, dates, '.', color='black')\n",
    "    ax.axvline(0, color='black', linestyle='--', linewidth=1)\n",
    "    # reverse y axis\n",
    "    ax.invert_yaxis()\n",
    "    \n",
    "    if yscales[name] == 'symlog':\n",
    "        print(name)\n",
    "        ax.set_xscale('symlog', linthresh=linthresh[name])\n",
    "        # skip every other tick\n",
    "        n_ticklabels = len(ax.xaxis.get_ticklabels())\n",
    "        for n, label in enumerate(ax.xaxis.get_ticklabels()):\n",
    "            if n % 2 != 0 and label.get_text() != '$\\\\mathdefault{0}$':\n",
    "                label.set_visible(False)\n",
    "        ax.tick_params(axis='both', which='both', direction='in', top=True, right=True)\n",
    "    ax.set_xlabel(xlabels[name])\n",
    "    ax.set_ylabel('Year')\n",
    "    ax.set_ylim(2000, 1650)\n",
    "    ax.set_title(nice_names[name])\n",
    "    # make top x limit and bottom x limit equal\n",
    "    xlim = max(abs(ax.get_xlim()[0]), abs(ax.get_xlim()[1]))\n",
    "    ax.set_xlim(-xlim, xlim)\n",
    "\n",
    "plt.tight_layout()\n",
    "plt.savefig('figs/historical.pdf', bbox_inches='tight')\n",
    "plt.show()"
   ]
  },
  {
   "cell_type": "code",
   "execution_count": null,
   "metadata": {},
   "outputs": [],
   "source": [
    "fig, axs = plt.subplots(1, 2, figsize=(10, 5))\n",
    "\n",
    "for i, name in enumerate(['ho', 'agcl']):\n",
    "    ax = axs[i]\n",
    "    # values = np.array(datasets[name].value - truths[name])\n",
    "    values = np.array(datasets[name].value)\n",
    "    errs = np.array(datasets[name].uncertainty)\n",
    "    # sort by decreasing error\n",
    "    sort_idx = np.argsort(errs)[::-1]\n",
    "    values = values[sort_idx]\n",
    "    errs = errs[sort_idx]\n",
    "\n",
    "    ax.errorbar(values, np.arange(len(values)), xerr=errs, fmt='.', markersize=2, linewidth=1, color='black')\n",
    "    ax.axvline(truths[name], color='black', linestyle='--', linewidth=1)\n",
    "    ax.invert_yaxis()\n",
    "    # xlim = max(abs(ax.get_xlim()[0]), abs(ax.get_xlim()[1]))\n",
    "    # ax.set_xlim(-xlim, xlim)\n",
    "    ax.set_title(nice_names[name])\n",
    "    # ax.set_xlabel(xlabels[name])\n",
    "    # remove y ticks\n",
    "    ax.set_yticks([])\n",
    "plt.tight_layout()"
   ]
  }
 ],
 "metadata": {
  "kernelspec": {
   "display_name": "cryo",
   "language": "python",
   "name": "python3"
  },
  "language_info": {
   "codemirror_mode": {
    "name": "ipython",
    "version": 3
   },
   "file_extension": ".py",
   "mimetype": "text/x-python",
   "name": "python",
   "nbconvert_exporter": "python",
   "pygments_lexer": "ipython3",
   "version": "3.12.4"
  }
 },
 "nbformat": 4,
 "nbformat_minor": 2
}
