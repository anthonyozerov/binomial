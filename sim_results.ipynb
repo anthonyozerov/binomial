{
 "cells": [
  {
   "cell_type": "code",
   "execution_count": null,
   "metadata": {},
   "outputs": [],
   "source": [
    "import numpy as np\n",
    "import json\n",
    "import os\n",
    "from sim_intervals import METHODS\n",
    "from simulate_data import NS, TAUS, RHOS\n",
    "from tqdm import tqdm\n",
    "import matplotlib.pyplot as plt\n",
    "\n",
    "plt.rcParams[\"text.usetex\"] = True\n",
    "plt.rc(\"text.latex\", preamble=r\"\\usepackage{cmbright}\")\n",
    "# plt.rcParams['mathtext.fontset'] = 'stixsans'"
   ]
  },
  {
   "cell_type": "code",
   "execution_count": null,
   "metadata": {},
   "outputs": [],
   "source": [
    "RESULT_DIR = \"results/simulation\"\n",
    "fnames = os.listdir(RESULT_DIR)\n",
    "results = {}\n",
    "for fname in tqdm(fnames):\n",
    "    key = fname[:-5]\n",
    "    with open(os.path.join(RESULT_DIR, fname), \"r\") as f:\n",
    "        result = json.load(f)\n",
    "        for r in result.values():\n",
    "            del r[\"intervals\"]\n",
    "            # r['width'] = np.mean(r['widths'])\n",
    "            del r[\"widths\"]\n",
    "        results[key] = result"
   ]
  },
  {
   "cell_type": "code",
   "execution_count": null,
   "metadata": {},
   "outputs": [],
   "source": [
    "results[\"fe_unif_n=3\"][\"re_dl\"][\"nominal_cov\"]"
   ]
  },
  {
   "cell_type": "code",
   "execution_count": null,
   "metadata": {},
   "outputs": [],
   "source": [
    "nice_names = {\n",
    "    \"binom\": \"ST\",\n",
    "    \"binom-corr\": r\"ST$_{\\rho=0.1}$\",\n",
    "    \"signrank\": \"SRT\",\n",
    "    \"fe\": \"FE\",\n",
    "    \"birge\": \"Birge\",\n",
    "    \"birge-t\": r\"Birge$_t$\",\n",
    "    \"birge-mle\": r\"Birge$_{\\rm{MLE}}$\",\n",
    "    \"pdg\": r\"Birge$_{\\rm{PDG}}$\",\n",
    "    \"codata\": r\"Birge$_{\\rm{CODATA}}$\",\n",
    "    \"re_hksj\": r\"RE$_{\\rm{HKSJ}}$\",\n",
    "    \"re_mhksj\": r\"RE$_{\\rm{mHKSJ}}$\",\n",
    "    \"re_mmhksj\": r\"RE$_{\\rm{mmHKSJ}}$\",\n",
    "    \"re_dl\": r\"RE$_{\\rm{DL}}$\",\n",
    "    \"re_mle\": r\"RE$_{\\rm{MLE}}$\",\n",
    "    \"re_pm\": r\"RE$_{\\rm{PM}}$\",\n",
    "}\n",
    "\n",
    "setting = \"re-outliers_unif\"\n",
    "# NS = [3, 6, 10, 15]\n",
    "# TAUS = [0.1, 1.0, 10.0]\n",
    "\n",
    "ncol = 6\n",
    "fig, axs = plt.subplots(\n",
    "    3,\n",
    "    ncol,\n",
    "    figsize=(8, 4),\n",
    "    sharex=True,\n",
    "    sharey=True,\n",
    "    gridspec_kw={\"wspace\": 0, \"hspace\": 0.25},\n",
    ")\n",
    "for i, method in enumerate(METHODS):\n",
    "    ax = axs.flatten()[i]\n",
    "    ax.tick_params(direction=\"in\", top=True, right=True)\n",
    "    ax.set_xticks(np.arange(len(TAUS)))\n",
    "    ax.set_yticks(np.arange(len(NS)))\n",
    "    ax.set_title(nice_names[method], pad=2)\n",
    "    ax.set_yticklabels([str(n) for n in NS])\n",
    "    ax.set_xticklabels([str(t) for t in TAUS])\n",
    "\n",
    "    # set xlabel if on bottom row, ylabel if in first column\n",
    "    if i >= len(METHODS) - ncol:\n",
    "        ax.set_xlabel(r\"$\\tau$\")\n",
    "    if i % ncol == 0:\n",
    "        ax.set_ylabel(r\"$n$\")\n",
    "    #\n",
    "    img = np.full((len(NS), len(TAUS)), np.nan)\n",
    "    for j, n in enumerate(NS):\n",
    "        for k, tau in enumerate(TAUS):\n",
    "            key = f\"{setting}_n={n}_tau={tau}\"\n",
    "            if key in results and method in results[key]:\n",
    "                # print(results[key][method]['coverage'])\n",
    "                img[j, k] = (\n",
    "                    results[key][method][\"coverage\"]\n",
    "                    - results[key][method][\"nominal_cov\"]\n",
    "                )\n",
    "    sc = ax.imshow(img, cmap=\"bwr_r\", vmin=-0.4, vmax=0.4)\n",
    "    print(method, np.mean(img))\n",
    "\n",
    "    ax.set_aspect(0.6)\n",
    "    # ax.set_xlabel('tau')\n",
    "for ax in axs.flatten()[len(METHODS) :]:\n",
    "    ax.set_visible(False)\n",
    "cbar_ax = fig.add_axes([0.92, 0.15, 0.02, 0.7])\n",
    "fig.colorbar(sc, cax=cbar_ax, label=r\"Achieved coverage $-$ Target coverage\")\n",
    "# plt.tight_layout()\n",
    "plt.show()"
   ]
  },
  {
   "cell_type": "code",
   "execution_count": null,
   "metadata": {},
   "outputs": [],
   "source": [
    "results[\"re-outliers\"]"
   ]
  }
 ],
 "metadata": {
  "kernelspec": {
   "display_name": "cryo",
   "language": "python",
   "name": "python3"
  },
  "language_info": {
   "codemirror_mode": {
    "name": "ipython",
    "version": 3
   },
   "file_extension": ".py",
   "mimetype": "text/x-python",
   "name": "python",
   "nbconvert_exporter": "python",
   "pygments_lexer": "ipython3",
   "version": "3.12.4"
  }
 },
 "nbformat": 4,
 "nbformat_minor": 2
}
