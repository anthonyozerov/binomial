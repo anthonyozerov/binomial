{
 "cells": [
  {
   "cell_type": "code",
   "execution_count": null,
   "id": "0",
   "metadata": {},
   "outputs": [],
   "source": [
    "import pdg\n",
    "import pandas as pd\n",
    "import sqlite3\n",
    "import numpy as np\n",
    "import matplotlib.pyplot as plt\n",
    "\n",
    "# point matplotlib ticks inwards\n",
    "plt.rcParams['xtick.direction'] = 'in'\n",
    "plt.rcParams['ytick.direction'] = 'in'\n",
    "# add top and right ticks\n",
    "plt.rcParams['axes.spines.top'] = True\n",
    "plt.rcParams['axes.spines.right'] = True\n",
    "# use tex\n",
    "plt.rcParams['text.usetex'] = True\n",
    "\n",
    "api = pdg.connect('sqlite:///data/pdgall-2025-v0.2.0.sqlite')"
   ]
  },
  {
   "cell_type": "code",
   "execution_count": null,
   "id": "1",
   "metadata": {},
   "outputs": [],
   "source": [
    "print(api.doc_value_type_keys())"
   ]
  },
  {
   "cell_type": "code",
   "execution_count": null,
   "id": "2",
   "metadata": {},
   "outputs": [],
   "source": [
    "con = sqlite3.connect('data/pdgall-2025-v0.2.0.sqlite')\n",
    "cur = con.cursor()\n",
    "command = \"\"\"\n",
    "SELECT pdgid.description, pdgmeasurement.pdgid, pdgdata.value_type, pdgdata.in_summary_table, pdgdata.value, pdgmeasurement_values.value, pdgmeasurement_values.error_positive, pdgmeasurement_values.error_negative\n",
    "FROM pdgmeasurement_values\n",
    "     JOIN pdgmeasurement ON pdgmeasurement.id = pdgmeasurement_values.pdgmeasurement_id\n",
    "     JOIN pdgid ON pdgid.id = pdgmeasurement.pdgid_id\n",
    "     JOIN pdgdata ON pdgdata.pdgid_id = pdgid.id\n",
    "--     JOIN pdgparticle ON pdgparticle.pdgid = pdgid.parent_pdgid\n",
    "WHERE pdgmeasurement_values.used_in_average AND pdgmeasurement_values.value IS NOT NULL AND pdgdata.edition = '2025' AND pdgdata.value_type = 'AC'\n",
    "\"\"\"\n",
    "res = cur.execute(command)\n",
    "data = res.fetchall() #WHERE \n",
    "columns = [col[0] for col in res.description]\n",
    "print(len(data), 'measurements')\n",
    "print(columns)"
   ]
  },
  {
   "cell_type": "code",
   "execution_count": null,
   "id": "3",
   "metadata": {},
   "outputs": [],
   "source": [
    "# cur.execute(\"SELECT * FROM pdgmeasurement\").fetchall()"
   ]
  },
  {
   "cell_type": "code",
   "execution_count": null,
   "id": "4",
   "metadata": {},
   "outputs": [],
   "source": [
    "df = pd.DataFrame(data, columns=['pdgid.description', 'pdgid', 'type', 'insummary', 'avg', 'measurement', 'error_positive', 'error_negative'])\n",
    "df['error'] = (df['error_positive'] + df['error_negative'])/2\n",
    "df['std_resid'] = (df['measurement'] - df['avg']) / df['error']\n",
    "# only keep rows where there are at least 3 measurements\n",
    "df = df.groupby('pdgid').filter(lambda x: len(x) >= 3)\n",
    "print('Number of properties:', len(df['pdgid'].unique()))\n",
    "print('Number of measurements:', len(df))\n",
    "\n",
    "# for each pdgid, do some operations on each row with that pdgid\n",
    "def process_group(group):\n",
    "    n = len(group)\n",
    "    sigma = np.array(group['error'])\n",
    "    sigma2 = sigma**2\n",
    "    #sigma2 = np.ones(n)\n",
    "\n",
    "    S = np.sum(1/sigma2)\n",
    "\n",
    "    Xbar = np.sum(group['measurement'] / sigma2) / S\n",
    "    # print(Xbar, group['avg'].iloc[0])\n",
    "    std = np.sqrt(sigma2*(1-1/(sigma2*S))**2 + (S-1/sigma2)/(S**2))\n",
    "    # print(std)\n",
    "    group['std_resid_adj'] = (group['measurement'] - group['avg']) / std\n",
    "    #group['std_resid_adj'] = (group['measurement'] - group['avg']) / sigma\n",
    "    # print(group)\n",
    "    return group\n",
    "# process_group(df[df['pdgid'] == 'Q007TP'])\n",
    "df_gb = df.groupby('pdgid', group_keys=False)\n",
    "dfs = [df_gb.get_group(x) for x in df_gb.groups]\n",
    "df = df.groupby('pdgid').apply(process_group, include_groups=False)\n",
    "df\n",
    "# df = df[df['pdgid.description'].str.contains('MASS')]"
   ]
  },
  {
   "cell_type": "code",
   "execution_count": null,
   "id": "5",
   "metadata": {},
   "outputs": [],
   "source": [
    "len(dfs)"
   ]
  },
  {
   "cell_type": "code",
   "execution_count": null,
   "id": "6",
   "metadata": {},
   "outputs": [],
   "source": [
    "from methods import birge, random_effects_dl_base, random_effects_mle, I2, errscale_test\n",
    "from scipy.stats import norm\n",
    "from tqdm import tqdm\n",
    "brs = []\n",
    "taus = []\n",
    "I2s = []\n",
    "errscale_ps = []\n",
    "brs_cont = []\n",
    "taus_cont = []\n",
    "I2s_cont = []\n",
    "errscale_ps_cont = []\n",
    "# birge_logprobs = []\n",
    "# re_logprobs = []\n",
    "# fe_logprobs = []\n",
    "# mix_logprobs = []\n",
    "bad = ['M047R7', 'M002R19', 'M049R52', 'M055R6', 'M053R02', 'M052R4', 'M056R4', 'M057R4', 'M070R24', 'M070R50', 'M070R60', 'M070R7', 'M070R82', 'M070R83', 'M070R84', 'M070R86', 'M070R87','M070R9', 'M070S6', 'M071R22', 'M071R28','M071S10', 'S040R11', 'S041B24', 'S041B41', 'S041C5', 'S041R3', 'S041R39', 'S041R90', 'S041S47', 'S041R65', 'S041S50', 'S041T03', 'S042B26', 'S042B27', 'S042B43', 'S042B47', 'S042B58', 'S042P59', 'S042R2', 'S042R20', 'S042R22', 'S042R23', 'S042R3', 'S042R47', 'S042R48', 'S042S24', 'S042S59', 'S049R21', 'S049S7', 'S049R24', 'S042S88', 'S086R3', 'S086R33', 'S086R32', 'S086R8', 'S086R34', 'S086R6']\n",
    "\n",
    "birge_loglikes = []\n",
    "re_loglikes = []\n",
    "fe_loglikes = []\n",
    "ns = []\n",
    "\n",
    "for i, property in tqdm(enumerate(dfs), total=len(dfs)):\n",
    "    \n",
    "    if property['pdgid'].iloc[0] in bad:\n",
    "        continue\n",
    "    values = np.array(property['measurement'])\n",
    "    sigmas = np.array(property['error'])\n",
    "    # values = values-np.mean(values)\n",
    "    scaler = np.std(values)\n",
    "    if scaler == 0:\n",
    "        continue\n",
    "    values = values / scaler\n",
    "    sigmas = sigmas / scaler\n",
    "\n",
    "\n",
    "    # sigmas = sigmas/np.mean(sigmas)\n",
    "    _, muhat_birge, _, chat = birge(values, sigmas, coverage=0.6827)\n",
    "    brs.append(chat)\n",
    "    mean_sigma = np.mean(sigmas)\n",
    "    # muhat_re, _, tau = random_effects_dl_base(values, sigmas)\n",
    "    # taus.append(np.mean(tau/sigmas))\n",
    "    _, muhat_re, _, tau = random_effects_mle(values, sigmas, coverage=0.6827)\n",
    "    taus.append(np.mean(tau/sigmas))\n",
    "    I2s.append(I2(values, sigmas))\n",
    "\n",
    "    # generate values with same sigmas but no unaccounted for errors.\n",
    "    # to be used as a control when analyzing the distribution of chat and tau\n",
    "    values_control = np.random.normal(loc=0, scale=sigmas)\n",
    "    _, _, _, chat_cont = birge(values_control, sigmas, coverage=0.6827)\n",
    "    brs_cont.append(chat_cont)\n",
    "    _, _, _, tau_cont = random_effects_mle(values_control, sigmas, coverage=0.6827)\n",
    "    taus_cont.append(np.mean(tau_cont/sigmas))\n",
    "    I2s_cont.append(I2(values_control, sigmas))\n",
    "\n",
    "    # errscale_ps.append(errscale_test(values, sigmas))\n",
    "    # errscale_ps_cont.append(errscale_test(values_control, sigmas))\n",
    "\n",
    "\n",
    "    birge_loglikes.append(np.log(np.prod(norm.pdf(values, loc=muhat_birge, scale=sigmas*chat))))\n",
    "    if any(np.array(birge_loglikes)==-np.inf):\n",
    "        print(i)\n",
    "        break\n",
    "    re_loglikes.append(np.log(np.prod(norm.pdf(values, loc=muhat_re, scale=np.sqrt(sigmas**2+tau**2)))))\n",
    "    fe_loglikes.append(np.log(np.prod(norm.pdf(values, loc=muhat_birge, scale=sigmas))))\n",
    "    ns.append(len(property))\n",
    "    # birge_probs = []\n",
    "    # re_probs = []\n",
    "    # fe_probs = []\n",
    "    # mix_probs = []\n",
    "\n",
    "    # for j in range(400):\n",
    "    #     spike = np.random.rand() < 0.5\n",
    "    #     if spike:\n",
    "    #         br = 1\n",
    "    #         tau = 0\n",
    "    #     else:\n",
    "    #         br = np.random.exponential(1)+1\n",
    "    #         tau = np.random.exponential(1)\n",
    "    #     mu = np.random.standard_cauchy()\n",
    "    #     birge_probs.append(np.prod(norm.pdf(values, loc=mu, scale=sigmas*br)))\n",
    "    #     # if np.any(np.log(norm.pdf(values, loc=mu, scale=sigmas*br))==-np.inf):\n",
    "    #     #     print(i)\n",
    "    #     #     print(property)\n",
    "    #     #     print('BR:', br)\n",
    "    #     #     print(mu)\n",
    "    #     #     print(values)\n",
    "    #     #     print(sigmas*br)\n",
    "    #     #     print(norm.pdf(values, loc=mu, scale=sigmas*br))\n",
    "    #     #     raise ValueError(\"Log probability is -inf, check values and sigmas.\")\n",
    "    #     # print(norm.pdf(values, loc=mu, scale=sigmas*br))\n",
    "    #     re_probs.append(np.prod(norm.pdf(values, loc=mu, scale=np.sqrt(sigmas**2+tau**2))))\n",
    "    #     fe_probs.append(np.prod(norm.pdf(values, loc=mu, scale=sigmas)))\n",
    "\n",
    "    #     mix_probs.append(np.prod(norm.pdf(values, loc=mu, scale=np.sqrt((br*sigmas)**2 + tau**2))))\n",
    "    # if np.mean(birge_probs) == 0:\n",
    "    #     print(i, property)\n",
    "    #     raise ValueError(\"Mean of birge_probs is zero, check values and sigmas.\")\n",
    "    \n",
    "    # birge_logprobs.append(np.log(np.mean(birge_probs)))\n",
    "    # re_logprobs.append(np.log(np.mean(re_probs)))\n",
    "    # fe_logprobs.append(np.log(np.mean(fe_probs)))\n",
    "    # mix_logprobs.append(np.log(np.mean(mix_probs)))\n",
    "\n",
    "# birge_logprobs = np.array(birge_logprobs)\n",
    "# re_logprobs = np.array(re_logprobs)\n",
    "# fe_logprobs = np.array(fe_logprobs)\n",
    "birge_loglikes = np.array(birge_loglikes)\n",
    "re_loglikes = np.array(re_loglikes)\n",
    "fe_loglikes = np.array(fe_loglikes)\n",
    "ns = np.array(ns)"
   ]
  },
  {
   "cell_type": "code",
   "execution_count": null,
   "id": "7",
   "metadata": {},
   "outputs": [],
   "source": [
    "plt.hist(birge_logprobs - re_logprobs, bins=100, color='grey')\n",
    "plt.show()"
   ]
  },
  {
   "cell_type": "code",
   "execution_count": null,
   "id": "8",
   "metadata": {},
   "outputs": [],
   "source": [
    "plt.hist(I2s)"
   ]
  },
  {
   "cell_type": "code",
   "execution_count": null,
   "id": "9",
   "metadata": {},
   "outputs": [],
   "source": [
    "plt.hist(birge_loglikes - re_loglikes, bins=100, color='grey')\n",
    "plt.show()"
   ]
  },
  {
   "cell_type": "code",
   "execution_count": null,
   "id": "10",
   "metadata": {},
   "outputs": [],
   "source": [
    "dfs[np.argmax(birge_logprobs - re_logprobs)]"
   ]
  },
  {
   "cell_type": "code",
   "execution_count": null,
   "id": "11",
   "metadata": {},
   "outputs": [],
   "source": [
    "# print('log probabilities')\n",
    "# print(np.sum(birge_logprobs))\n",
    "# print(np.sum(re_logprobs))\n",
    "# print(np.sum(fe_logprobs))\n",
    "# print(np.sum(mix_logprobs))\n",
    "print('log likelihoods')\n",
    "loglikes = np.array([np.sum(birge_loglikes), np.sum(re_loglikes), np.sum(fe_loglikes)])\n",
    "print(loglikes)\n",
    "birge_bics = 2 * np.log(ns) - 2 * birge_loglikes\n",
    "re_bics = 2 * np.log(ns) - 2 * re_loglikes\n",
    "fe_bics = 1 * np.log(ns) - 2 * fe_loglikes\n",
    "birge_aics = 2 * 2 - 2 * birge_loglikes\n",
    "re_aics = 2 * 2 - 2 * re_loglikes\n",
    "fe_aics = 2 * 1 - 2 * fe_loglikes\n",
    "\n",
    "col1 = loglikes\n",
    "col2 = np.array([np.mean(birge_bics), np.mean(re_bics), np.mean(fe_bics)])\n",
    "col3 = np.array([np.mean(birge_aics), np.mean(re_aics), np.mean(fe_aics)])\n",
    "colnames = ['log-likelihood', 'BIC', 'AIC']\n",
    "rownames = ['Birge Ratio', 'Random Effects', 'Fixed Effects']\n",
    "df = pd.DataFrame(np.array([col1, col2, col3]).T, columns=colnames, index=rownames)\n",
    "\n",
    "# print in latex format\n",
    "print(df.to_latex(index=True, float_format='%.2f'))\n",
    "\n"
   ]
  },
  {
   "cell_type": "code",
   "execution_count": null,
   "id": "12",
   "metadata": {},
   "outputs": [],
   "source": [
    "plt.scatter(birge_loglikes, re_loglikes, marker='.', s=4, edgecolor='none', c=ns, vmin=0)\n",
    "ymin = np.min([np.min(birge_loglikes), np.min(re_loglikes)])\n",
    "ymax = np.max([np.max(birge_loglikes), np.max(re_loglikes)])\n",
    "plt.plot([ymin-1, ymax+1], [ymin-1, ymax+1], color='red', linewidth=1, linestyle=':')\n",
    "# set aspect ratio to 1\n",
    "plt.gca().set_aspect('equal', adjustable='box')\n",
    "plt.xlim(ymin-0.2, ymax+0.2)\n",
    "plt.ylim(ymin-0.2, ymax+0.2)\n",
    "plt.xlabel('Birge Ratio log-likelihood')\n",
    "plt.ylabel('Random Effects log-likelihood')\n",
    "plt.colorbar(label='Number of measurements')\n",
    "re_better_percent = np.round(np.mean(re_loglikes > birge_loglikes) * 100,1)\n",
    "birge_better_percent = np.round(np.mean(birge_loglikes > re_loglikes) * 100,1)\n",
    "plt.text(0.1, 0.9, f'Random Effects better ({re_better_percent}\\\\%)', transform=plt.gca().transAxes, fontsize=12, fontweight='bold', color='black', ha='left', va='top')\n",
    "plt.text(0.9, 0.1, f'Birge Ratio better ({birge_better_percent}\\\\%)', transform=plt.gca().transAxes, fontsize=12, fontweight='bold', color='black', ha='right', va='bottom')\n",
    "plt.title('Random Effects and Birge Ratio \\n MLE log-likelihoods for each property')\n",
    "plt.savefig('figs/pdg_loglike.pdf', bbox_inches='tight')\n",
    "plt.show()\n",
    "plt.hist(re_loglikes-birge_loglikes, bins=100, density=True, color='grey')\n",
    "plt.axvline(0, color='black')\n",
    "plt.axvline(np.mean(re_loglikes-birge_loglikes), color='red', linestyle='--')\n",
    "plt.show()"
   ]
  },
  {
   "cell_type": "code",
   "execution_count": null,
   "id": "13",
   "metadata": {},
   "outputs": [],
   "source": [
    "np.mean(np.log(ns))"
   ]
  },
  {
   "cell_type": "code",
   "execution_count": null,
   "id": "14",
   "metadata": {},
   "outputs": [],
   "source": [
    "np.mean(re_loglikes == birge_loglikes)"
   ]
  },
  {
   "cell_type": "code",
   "execution_count": null,
   "id": "15",
   "metadata": {},
   "outputs": [],
   "source": [
    "np.mean(re_loglikes > birge_loglikes)"
   ]
  },
  {
   "cell_type": "code",
   "execution_count": null,
   "id": "16",
   "metadata": {},
   "outputs": [],
   "source": [
    "print(2 * len(ns) * np.log(np.sum(ns)) - 2 * np.sum(birge_loglikes))\n",
    "print(2 * len(ns) * np.log(np.sum(ns)) - 2 * np.sum(re_loglikes))\n",
    "print(1 * len(ns) * np.log(np.sum(ns)) - 2 * np.sum(fe_loglikes))"
   ]
  },
  {
   "cell_type": "code",
   "execution_count": null,
   "id": "17",
   "metadata": {},
   "outputs": [],
   "source": []
  },
  {
   "cell_type": "code",
   "execution_count": null,
   "id": "18",
   "metadata": {},
   "outputs": [],
   "source": [
    "plt.hist(np.array(errscale_ps)[np.array(I2s)>0])\n",
    "plt.show()\n",
    "plt.hist(np.array(errscale_ps_cont)[np.array(I2s_cont)>0])\n",
    "plt.show()"
   ]
  },
  {
   "cell_type": "code",
   "execution_count": null,
   "id": "19",
   "metadata": {},
   "outputs": [],
   "source": [
    "brs = np.array(brs)\n",
    "taus = np.array(taus)\n",
    "brs_cont = np.array(brs_cont)\n",
    "taus_cont = np.array(taus_cont)\n",
    "\n",
    "brs_big = brs[brs>1]\n",
    "taus_big = taus[taus>0]\n",
    "brs_cont_big = brs_cont[brs_cont>1]\n",
    "taus_cont_big = taus_cont[taus_cont>0]\n",
    "\n",
    "fig, axs = plt.subplots(1, 2, figsize=(10,5))\n",
    "\n",
    "axs[0].hist(brs_big, range=(1, 4), bins=30, color='grey', label='PDG data')# , weights=np.ones(len(brs_big))/len(brs_big))\n",
    "axs[0].hist(brs_cont_big, range=(1, 4), bins=30, color='black', histtype='step', label=f'Control experiment\\n(no systematics)\\n(${int(np.mean(brs_cont==1)*100)}\\%=1$)')\n",
    "axs[0].set_title(fr'Non-unity Birge ratios within each property (${int(np.mean(brs==1)*100)}\\%=1$)')\n",
    "axs[0].set_xlim(1, 4)\n",
    "axs[0].set_xlabel(r'Estimated Birge ratio of a property')\n",
    "axs[0].set_ylabel('Count')\n",
    "axs[0].legend(frameon=False)\n",
    "\n",
    "axs[1].hist(taus_big, range=(0,3), bins=30, color='grey', label='PDG data')# , weights=np.ones(len(taus_big))/len(taus_big))\n",
    "axs[1].hist(taus_cont_big, range=(0, 3), bins=30, color='black', histtype='step', label=f'Control experiment\\n(no systematics)\\n(${int(np.mean(taus_cont==0)*100)}\\%=0$)')\n",
    "axs[1].set_title(fr'Non-zero mean ratios $\\hat\\tau/\\sigma_i$ within each property (${int(np.mean(taus==0)*100)}\\%=0$)')\n",
    "axs[1].set_xlim(0, 3)\n",
    "axs[1].set_xlabel(r'Mean ratio $\\hat\\tau/\\sigma_i$ within a property')\n",
    "axs[1].set_ylabel('Count')\n",
    "axs[1].legend(frameon=False)\n",
    "\n",
    "plt.savefig('figs/pdg_birge_re.pdf', bbox_inches='tight')\n",
    "plt.show()"
   ]
  },
  {
   "cell_type": "code",
   "execution_count": null,
   "id": "20",
   "metadata": {},
   "outputs": [],
   "source": [
    "brs_cont"
   ]
  },
  {
   "cell_type": "code",
   "execution_count": null,
   "id": "21",
   "metadata": {},
   "outputs": [],
   "source": [
    "np.mean(np.array(brs)==1)"
   ]
  },
  {
   "cell_type": "code",
   "execution_count": null,
   "id": "22",
   "metadata": {},
   "outputs": [],
   "source": [
    "np.max(taus)"
   ]
  },
  {
   "cell_type": "code",
   "execution_count": null,
   "id": "23",
   "metadata": {},
   "outputs": [],
   "source": []
  },
  {
   "cell_type": "code",
   "execution_count": null,
   "id": "24",
   "metadata": {},
   "outputs": [],
   "source": [
    "np.sum(np.isnan(taus))"
   ]
  },
  {
   "cell_type": "code",
   "execution_count": null,
   "id": "25",
   "metadata": {},
   "outputs": [],
   "source": [
    "np.max(taus)"
   ]
  },
  {
   "cell_type": "code",
   "execution_count": null,
   "id": "26",
   "metadata": {},
   "outputs": [],
   "source": [
    "np.argmax(taus)\n",
    "dfs[1231]"
   ]
  },
  {
   "cell_type": "code",
   "execution_count": null,
   "id": "27",
   "metadata": {},
   "outputs": [],
   "source": [
    "df"
   ]
  },
  {
   "cell_type": "code",
   "execution_count": null,
   "id": "28",
   "metadata": {},
   "outputs": [],
   "source": [
    "df['pdgid.description'][df['pdgid.description'].str.contains('MASS')].unique()"
   ]
  },
  {
   "cell_type": "code",
   "execution_count": null,
   "id": "29",
   "metadata": {},
   "outputs": [],
   "source": [
    "type(df)"
   ]
  },
  {
   "cell_type": "code",
   "execution_count": null,
   "id": "30",
   "metadata": {},
   "outputs": [],
   "source": [
    "df.groups"
   ]
  },
  {
   "cell_type": "code",
   "execution_count": null,
   "id": "31",
   "metadata": {},
   "outputs": [],
   "source": [
    "df"
   ]
  },
  {
   "cell_type": "code",
   "execution_count": null,
   "id": "32",
   "metadata": {},
   "outputs": [],
   "source": []
  },
  {
   "cell_type": "code",
   "execution_count": null,
   "id": "33",
   "metadata": {},
   "outputs": [],
   "source": [
    "df['limit'].unique()"
   ]
  },
  {
   "cell_type": "code",
   "execution_count": null,
   "id": "34",
   "metadata": {},
   "outputs": [],
   "source": [
    "df[df['std_resid'] == 0]"
   ]
  },
  {
   "cell_type": "code",
   "execution_count": null,
   "id": "35",
   "metadata": {},
   "outputs": [],
   "source": [
    "plt.hist(df['std_resid_adj'], bins=100, range=(-5, 5), density=True, color='grey', label='Standardized residuals')\n",
    "# plot normal pdf\n",
    "from scipy.stats import norm\n",
    "x = np.linspace(-5, 5, 100)\n",
    "plt.xlim(-5, 5)\n",
    "plt.axvline(0, color='black', linestyle='--')\n",
    "plt.plot(x, norm.pdf(x, 0, 1), color='red', label='Standard Normal PDF')\n",
    "plt.title('Standardized residuals of PDG measurements')\n",
    "plt.legend(frameon=False)\n",
    "plt.savefig('figs/pdg_std_residuals.pdf', bbox_inches='tight')\n",
    "plt.show()"
   ]
  },
  {
   "cell_type": "code",
   "execution_count": null,
   "id": "36",
   "metadata": {},
   "outputs": [],
   "source": [
    "## qq plot\n",
    "import statsmodels.api as sm\n",
    "sm.qqplot(df['std_resid_adj'])\n",
    "plt.ylim(-7, 7)\n",
    "plt.xlim(-7, 7)"
   ]
  },
  {
   "cell_type": "code",
   "execution_count": null,
   "id": "37",
   "metadata": {},
   "outputs": [],
   "source": [
    "# ks test\n",
    "from scipy.stats import kstest\n",
    "ks_stat, ks_pvalue = kstest(df['std_resid_adj'], 'norm')\n",
    "ks_pvalue"
   ]
  },
  {
   "cell_type": "code",
   "execution_count": null,
   "id": "38",
   "metadata": {},
   "outputs": [],
   "source": [
    "n = 5\n",
    "data = np.random.normal(0, 1, (100000, n))\n",
    "avg = np.mean(data, axis=1)\n",
    "resid = data - avg[:, None]\n",
    "plt.hist(resid.flatten(), bins=100, range=(-5, 5), density=True)\n",
    "plt.plot(x, norm.pdf(x, 0, np.sqrt((n-1)/n)), color='red', label='Normal PDF')"
   ]
  },
  {
   "cell_type": "code",
   "execution_count": null,
   "id": "39",
   "metadata": {},
   "outputs": [],
   "source": [
    "data"
   ]
  },
  {
   "cell_type": "code",
   "execution_count": null,
   "id": "40",
   "metadata": {},
   "outputs": [],
   "source": [
    "len(data)"
   ]
  },
  {
   "cell_type": "code",
   "execution_count": null,
   "id": "41",
   "metadata": {},
   "outputs": [],
   "source": [
    "cur.execute(\"SELECT * FROM pdgdata\").fetchall()"
   ]
  },
  {
   "cell_type": "code",
   "execution_count": null,
   "id": "42",
   "metadata": {},
   "outputs": [],
   "source": [
    "data"
   ]
  },
  {
   "cell_type": "code",
   "execution_count": null,
   "id": "43",
   "metadata": {},
   "outputs": [],
   "source": [
    "api.editions"
   ]
  },
  {
   "cell_type": "code",
   "execution_count": null,
   "id": "44",
   "metadata": {},
   "outputs": [],
   "source": [
    "particle = api.get_particle_by_name('t')\n",
    "measurement = list(particle.mass_measurements())[0]"
   ]
  },
  {
   "cell_type": "code",
   "execution_count": null,
   "id": "45",
   "metadata": {},
   "outputs": [],
   "source": [
    "dir(particle)"
   ]
  },
  {
   "cell_type": "code",
   "execution_count": null,
   "id": "46",
   "metadata": {},
   "outputs": [],
   "source": [
    "particle"
   ]
  },
  {
   "cell_type": "code",
   "execution_count": null,
   "id": "47",
   "metadata": {},
   "outputs": [],
   "source": [
    "measurement"
   ]
  },
  {
   "cell_type": "code",
   "execution_count": null,
   "id": "48",
   "metadata": {},
   "outputs": [],
   "source": [
    "con = sqlite3.connect('data/pdgall-2025-v0.2.0.sqlite')\n",
    "cur = con.cursor()\n",
    "command = \"\"\"\n",
    "SELECT pdgid.description, pdgmeasurement.pdgid, pdgdata.value_type, pdgdata.in_summary_table, pdgdata.value, pdgmeasurement_values.value, pdgmeasurement_values.error_positive, pdgmeasurement_values.error_negative\n",
    "FROM pdgmeasurement_values\n",
    "     JOIN pdgmeasurement ON pdgmeasurement.id = pdgmeasurement_values.pdgmeasurement_id\n",
    "     JOIN pdgid ON pdgid.id = pdgmeasurement.pdgid_id\n",
    "     JOIN pdgdata ON pdgdata.pdgid_id = pdgid.id\n",
    "--     JOIN pdgparticle ON pdgparticle.pdgid = pdgid.parent_pdgid\n",
    "WHERE pdgmeasurement_values.value IS NOT NULL AND pdgdata.edition = '2025'\n",
    "\"\"\"\n",
    "res = cur.execute(command)\n",
    "data = res.fetchall() #WHERE \n",
    "columns = [col[0] for col in res.description]\n",
    "print(len(data), 'measurements')\n",
    "print(columns)\n",
    "df = pd.DataFrame(data, columns=['pdgid.description', 'pdgid', 'type', 'insummary', 'avg', 'measurement', 'error_positive', 'error_negative'])\n",
    "df['error'] = (df['error_positive'] + df['error_negative'])/2\n",
    "df['std_resid'] = (df['measurement'] - df['avg']) / df['error']\n",
    "# only keep rows where there are at least 3 measurements\n",
    "df = df.groupby('pdgid').filter(lambda x: len(x) >= 3)\n",
    "print('Number of properties:', len(df['pdgid'].unique()))\n",
    "print('Number of measurements:', len(df))\n",
    "df_gb = df.groupby('pdgid', group_keys=False)\n",
    "dfs = [df_gb.get_group(x) for x in df_gb.groups]"
   ]
  },
  {
   "cell_type": "code",
   "execution_count": null,
   "id": "49",
   "metadata": {},
   "outputs": [],
   "source": [
    "ns = []\n",
    "for df in dfs:\n",
    "    ns.append(len(df))\n",
    "biggest = np.argpartition(ns, -10)[-10:]\n",
    "for idx in biggest:\n",
    "    print(dfs[idx])"
   ]
  },
  {
   "cell_type": "code",
   "execution_count": null,
   "id": "50",
   "metadata": {},
   "outputs": [],
   "source": [
    "dfs[np.argmax(ns)]"
   ]
  }
 ],
 "metadata": {
  "kernelspec": {
   "display_name": "cryo",
   "language": "python",
   "name": "python3"
  },
  "language_info": {
   "codemirror_mode": {
    "name": "ipython",
    "version": 3
   },
   "file_extension": ".py",
   "mimetype": "text/x-python",
   "name": "python",
   "nbconvert_exporter": "python",
   "pygments_lexer": "ipython3",
   "version": "3.12.4"
  }
 },
 "nbformat": 4,
 "nbformat_minor": 5
}
