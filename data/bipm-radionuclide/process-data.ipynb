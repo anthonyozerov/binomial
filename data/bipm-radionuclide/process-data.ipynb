{
 "cells": [
  {
   "cell_type": "code",
   "execution_count": null,
   "metadata": {},
   "outputs": [],
   "source": [
    "import requests\n",
    "import pandas as pd"
   ]
  },
  {
   "cell_type": "code",
   "execution_count": null,
   "metadata": {},
   "outputs": [],
   "source": [
    "nuclides = ['Ac-225', 'Ag-110m', 'Ba-133', 'Cd-109', 'Ce-139', 'Co-57', 'Co-60', 'Cs-134', 'Ga-67', 'Gd-153', 'Mn-54', 'Ra-223', 'Sn-113', 'Sr-85', 'Tb-161', 'Tl-201', 'Y-88']\n",
    "path_template = 'https://raw.githubusercontent.com/RomainCoulon/BIPM.RI-II--K1_database/refs/heads/main/{nuclide}_database.json'\n",
    "\n",
    "data_jsons = []\n",
    "\n",
    "for nuclide in nuclides:\n",
    "    path = path_template.format(nuclide=nuclide)\n",
    "    response = requests.get(path)\n",
    "    response.raise_for_status()\n",
    "    data_jsons.append(response.json())"
   ]
  },
  {
   "cell_type": "code",
   "execution_count": null,
   "metadata": {},
   "outputs": [],
   "source": [
    "for data_json in data_jsons:\n",
    "    nuclide = list(data_json.keys())[1]\n",
    "    d = data_json[nuclide]\n",
    "    key_comparisons = [k for k in d.keys() if k.startswith('Key comparison')]\n",
    "\n",
    "    for kc in key_comparisons:\n",
    "        if d[kc]['Key Comparison Reference Value (KCRV)'] == 'not evaluated' or 'Degrees of Equivalence' not in d[kc]:\n",
    "            continue\n",
    "        doe_dict = d[kc]['Degrees of Equivalence']\n",
    "        if len(doe_dict) < 3:\n",
    "            continue\n",
    "        \n",
    "        dataset_name = kc.split('.')[-1]\n",
    "        if dataset_name == 'Co-60(2003_1)' or dataset_name == 'Co-60(2003_2)':\n",
    "            continue\n",
    "        print(dataset_name)\n",
    "        # print(doe_dict)\n",
    "        df = pd.DataFrame(doe_dict).T\n",
    "        df.columns = ['value', 'uncertainty']\n",
    "        df['uncertainty'] = df['uncertainty']/2 # convert 95% to sd\n",
    "        df.index.name = 'lab'\n",
    "        # sort by index\n",
    "        df = df.sort_index()\n",
    "        df.to_csv(f'{dataset_name}.csv', index=True)"
   ]
  }
 ],
 "metadata": {
  "kernelspec": {
   "display_name": "cryo",
   "language": "python",
   "name": "python3"
  },
  "language_info": {
   "codemirror_mode": {
    "name": "ipython",
    "version": 3
   },
   "file_extension": ".py",
   "mimetype": "text/x-python",
   "name": "python",
   "nbconvert_exporter": "python",
   "pygments_lexer": "ipython3",
   "version": "3.12.4"
  }
 },
 "nbformat": 4,
 "nbformat_minor": 2
}
